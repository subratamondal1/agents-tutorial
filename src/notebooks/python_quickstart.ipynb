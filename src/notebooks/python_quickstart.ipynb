{
 "cells": [
  {
   "cell_type": "markdown",
   "id": "47f54b8e-0d62-4948-a864-3dbba3ec3c7d",
   "metadata": {},
   "source": [
    "# Unpacking\n",
    "\n",
    "- `*` operator captures excess items during unpacking."
   ]
  },
  {
   "cell_type": "code",
   "execution_count": 3,
   "id": "c9d11f04-a757-401c-995e-13ef1b3c4680",
   "metadata": {},
   "outputs": [
    {
     "name": "stdout",
     "output_type": "stream",
     "text": [
      "1\n",
      "[2, 3, 4]\n",
      "5\n"
     ]
    }
   ],
   "source": [
    "numbers = [1,2,3,4,5]\n",
    "first, *middle, last = numbers\n",
    "print(first)\n",
    "print(middle)\n",
    "print(last)"
   ]
  },
  {
   "cell_type": "markdown",
   "id": "1b0ecb0f-0162-4afb-99d4-abfb9cd66100",
   "metadata": {},
   "source": [
    "# Functions"
   ]
  },
  {
   "cell_type": "markdown",
   "id": "4f4428de-c613-4316-a3cb-a37e8e63c352",
   "metadata": {},
   "source": [
    "## Variable-Length Positional Arguments\n",
    "- `*args` convention"
   ]
  },
  {
   "cell_type": "code",
   "execution_count": 12,
   "id": "4e1db580-5e5e-40a8-b8fe-34434b700382",
   "metadata": {},
   "outputs": [
    {
     "name": "stdout",
     "output_type": "stream",
     "text": [
      "45\n",
      "<class 'tuple'> (1, 2, 3, 4, 5, 6, 7, 8, 9)\n"
     ]
    }
   ],
   "source": [
    "def sum_all(*subrata):\n",
    "    print(sum(subrata))\n",
    "    print(type(subrata), subrata)\n",
    "\n",
    "sum_all(1,2,3,4,5,6,7,8,9)"
   ]
  },
  {
   "cell_type": "markdown",
   "id": "958df609-29b3-4736-8470-372b4e4d8ed0",
   "metadata": {},
   "source": [
    "## Variable-Length Keyword Arguments"
   ]
  },
  {
   "cell_type": "markdown",
   "id": "c4b201c0-cc30-43e6-a5d9-07d010cbec3f",
   "metadata": {},
   "source": [
    "- `*kwargs` convention"
   ]
  },
  {
   "cell_type": "code",
   "execution_count": 13,
   "id": "15863ab3-17af-4199-8054-c81b415d4c46",
   "metadata": {},
   "outputs": [
    {
     "name": "stdout",
     "output_type": "stream",
     "text": [
      "dict_items([('firstname', 'Subrata'), ('lastname', 'Mondal')])\n",
      "<class 'dict'> {'firstname': 'Subrata', 'lastname': 'Mondal'}\n"
     ]
    }
   ],
   "source": [
    "def info(**subrata):\n",
    "    print(subrata.items())\n",
    "    print(type(subrata), subrata)\n",
    "\n",
    "info(firstname=\"Subrata\", lastname=\"Mondal\")"
   ]
  },
  {
   "cell_type": "markdown",
   "id": "32e1e024-15db-41ef-a64d-e3ef1226203a",
   "metadata": {},
   "source": [
    "## Lambda Functions"
   ]
  },
  {
   "cell_type": "code",
   "execution_count": 17,
   "id": "611c7449-7a9b-423e-9cf2-e0e2af5891b8",
   "metadata": {},
   "outputs": [
    {
     "data": {
      "text/plain": [
       "11"
      ]
     },
     "execution_count": 17,
     "metadata": {},
     "output_type": "execute_result"
    }
   ],
   "source": [
    "add = lambda x, y : x + y\n",
    "add(5, 6)"
   ]
  },
  {
   "cell_type": "code",
   "execution_count": 22,
   "id": "f9f415be-9f80-45fd-9c76-210e308b9c48",
   "metadata": {},
   "outputs": [
    {
     "name": "stdout",
     "output_type": "stream",
     "text": [
      "[1, 4, 9, 16, 25, 36, 49, 64, 81]\n"
     ]
    }
   ],
   "source": [
    "numbers = [1,2,3,4,5,6,7,8,9]\n",
    "squared = list(map(lambda x:x*x, numbers))\n",
    "print(squared)"
   ]
  },
  {
   "cell_type": "markdown",
   "id": "8f7579c1-f8f8-4318-98e9-5bb9684d4adb",
   "metadata": {},
   "source": [
    "## Decorators\n",
    "- **Higher Order Function** that modifies the behaviour of another function. It is used for **logging, caching, access control** without modifying the original function's code.\n",
    "\n",
    "> **In LangGraph, Decorators can be used to wrap Node functions, adding Logging or Error-Handling behaviours.**"
   ]
  },
  {
   "cell_type": "code",
   "execution_count": 25,
   "id": "315596c4-c463-4c10-a46f-463c744bce09",
   "metadata": {},
   "outputs": [
    {
     "name": "stdout",
     "output_type": "stream",
     "text": [
      "Executing: greet\n",
      "Hello, Alice!\n"
     ]
    }
   ],
   "source": [
    "def log_decorator(func):\n",
    "    def wrapper(*args, **kwargs):\n",
    "        print(f\"Executing: {func.__name__}\")\n",
    "        return func(*args, **kwargs)\n",
    "    return wrapper\n",
    "\n",
    "@log_decorator\n",
    "def greet(name):\n",
    "    print(f\"Hello, {name}!\")\n",
    "    \n",
    "greet(\"Alice\")"
   ]
  },
  {
   "cell_type": "code",
   "execution_count": 26,
   "id": "abfc0ba9-c1ab-493e-9082-6f06bd98a055",
   "metadata": {},
   "outputs": [
    {
     "name": "stdout",
     "output_type": "stream",
     "text": [
      "slow_function took 2.00s\n"
     ]
    }
   ],
   "source": [
    "import time\n",
    "\n",
    "def timer_decorator(func):\n",
    "    def wrapper(*args, **kwargs):\n",
    "        start = time.time()\n",
    "        result = func(*args, **kwargs)  # Call the original function\n",
    "        print(f\"{func.__name__} took {time.time() - start:.2f}s\")\n",
    "        return result\n",
    "    return wrapper\n",
    "\n",
    "@timer_decorator\n",
    "def slow_function():\n",
    "    time.sleep(2)\n",
    "\n",
    "slow_function()  # Output: \"slow_function took 2.00s\""
   ]
  },
  {
   "cell_type": "code",
   "execution_count": 28,
   "id": "2f1c6561-c341-4693-8184-bae44b152d39",
   "metadata": {},
   "outputs": [
    {
     "name": "stdout",
     "output_type": "stream",
     "text": [
      "Calling calculate_volume with args: 3, 4, 5\n",
      "Result: 60\n"
     ]
    },
    {
     "data": {
      "text/plain": [
       "60"
      ]
     },
     "execution_count": 28,
     "metadata": {},
     "output_type": "execute_result"
    }
   ],
   "source": [
    "def log_arguments_and_result(func):\n",
    "    def wrapper(length, width, height):  # Explicit parameters for clarity\n",
    "        print(f\"Calling {func.__name__} with args: {length}, {width}, {height}\")\n",
    "        result = func(length, width, height)  # Call the original function\n",
    "        print(f\"Result: {result}\")\n",
    "        return result\n",
    "    return wrapper\n",
    "\n",
    "@log_arguments_and_result\n",
    "def calculate_volume(length, width, height):\n",
    "    return length * width * height\n",
    "\n",
    "calculate_volume(3, 4, 5)"
   ]
  },
  {
   "cell_type": "code",
   "execution_count": 29,
   "id": "fb1bfec7-15ec-417a-aaf9-333d76a0765d",
   "metadata": {},
   "outputs": [
    {
     "name": "stdout",
     "output_type": "stream",
     "text": [
      "Calling calculate_volume with args: (3, 4), kwargs: {'height': 5}\n",
      "Result: 60\n"
     ]
    },
    {
     "data": {
      "text/plain": [
       "60"
      ]
     },
     "execution_count": 29,
     "metadata": {},
     "output_type": "execute_result"
    }
   ],
   "source": [
    "def log_arguments_and_result(func):\n",
    "    def wrapper(*args, **kwargs):  # Accept any arguments\n",
    "        print(f\"Calling {func.__name__} with args: {args}, kwargs: {kwargs}\")\n",
    "        result = func(*args, **kwargs)  # Pass all arguments to the original function\n",
    "        print(f\"Result: {result}\")\n",
    "        return result\n",
    "    return wrapper\n",
    "\n",
    "@log_arguments_and_result\n",
    "def calculate_volume(length, width, height=1):  # Now with a default parameter\n",
    "    return length * width * height\n",
    "\n",
    "calculate_volume(3, 4, height=5)  # Mix positional and keyword arguments"
   ]
  },
  {
   "cell_type": "markdown",
   "id": "1fd93d08-27f7-4496-bec6-d355b820180f",
   "metadata": {},
   "source": [
    "## **Closures Explained**\n",
    "A **closure** is a function that retains access to variables from its enclosing **(outer) scope**, even after the outer function has finished executing. In decorators, the `wrapper` function is a closure because it remembers the `func` parameter from the outer `log_arguments_and_result` function.\n",
    "\n",
    "**Example of a Closure**\n",
    "```python\n",
    "def outer_function(message):\n",
    "    def inner_function():\n",
    "        print(message)  # inner_function \"closes over\" the 'message' variable\n",
    "    return inner_function\n",
    "\n",
    "my_closure = outer_function(\"Hello, closure!\")\n",
    "my_closure()  # Output: \"Hello, closure!\"\n",
    "```\n",
    "\n",
    "- **Key Point**: Even though `outer_function` has finished executing, `inner_function` still has access to `message`.\n",
    "\n",
    "**Closures in Decorators**\n",
    "In the decorator example:\n",
    "- `log_arguments_and_result` (outer function) takes `func` as a parameter.\n",
    "- The `wrapper` (inner function) uses `func` even after `log_arguments_and_result` has returned.\n",
    "- This is only possible because `wrapper` is a closure that \"closes over\" `func`.\n",
    "\n",
    "---\n",
    "\n",
    "### **Why Use Closures in Decorators?**\n",
    "1. **Encapsulation**: The decorator’s logic (e.g., logging) is neatly wrapped around the original function.\n",
    "2. **State Retention**: The closure retains access to the original function (`func`) and any variables from the decorator’s scope.\n",
    "\n",
    "---\n",
    "\n",
    "### **Advanced Example: Parameter Validation Decorator**\n",
    "Let’s create a decorator that validates if all parameters are positive:\n",
    "\n",
    "```python\n",
    "def validate_positive_numbers(func):\n",
    "    def wrapper(*args, **kwargs):\n",
    "        # Check all positional and keyword arguments\n",
    "        for arg in args:\n",
    "            if not isinstance(arg, (int, float)) or arg <= 0:\n",
    "                raise ValueError(\"All arguments must be positive numbers\")\n",
    "        for value in kwargs.values():\n",
    "            if not isinstance(value, (int, float)) or value <= 0:\n",
    "                raise ValueError(\"All arguments must be positive numbers\")\n",
    "        return func(*args, **kwargs)\n",
    "    return wrapper\n",
    "\n",
    "@validate_positive_numbers\n",
    "def calculate_area(length, width):\n",
    "    return length * width\n",
    "\n",
    "print(calculate_area(4, 5))  # Works: 20\n",
    "calculate_area(-2, 5)        # Raises ValueError\n",
    "```"
   ]
  },
  {
   "cell_type": "code",
   "execution_count": 31,
   "id": "61d2eace-e288-4b82-a905-aa8dd21dde75",
   "metadata": {},
   "outputs": [
    {
     "name": "stdout",
     "output_type": "stream",
     "text": [
      "Starting complex_operation with args: (2, 3), kwargs: {'c': 4}\n",
      "Finished complex_operation in 1.01 seconds\n",
      "24\n"
     ]
    }
   ],
   "source": [
    "# Timing + Logging Decorator\n",
    "import time\n",
    "from functools import wraps  # To preserve function metadata\n",
    "\n",
    "def timer_and_logger(func):\n",
    "    @wraps(func)  # Preserves func's name/docstring\n",
    "    def wrapper(*args, **kwargs):\n",
    "        print(f\"Starting {func.__name__} with args: {args}, kwargs: {kwargs}\")\n",
    "        start_time = time.time()\n",
    "        result = func(*args, **kwargs)\n",
    "        end_time = time.time()\n",
    "        print(f\"Finished {func.__name__} in {end_time - start_time:.2f} seconds\")\n",
    "        return result\n",
    "    return wrapper\n",
    "\n",
    "@timer_and_logger\n",
    "def complex_operation(a, b, c=1):\n",
    "    \"\"\"Multiplies three numbers after a delay.\"\"\"\n",
    "    time.sleep(1)\n",
    "    return a * b * c\n",
    "\n",
    "print(complex_operation(2, 3, c=4))  # Output: 24 (with logs and timing)"
   ]
  },
  {
   "cell_type": "markdown",
   "id": "316f0657-e62a-400c-8e41-c26c8e3d1a48",
   "metadata": {},
   "source": [
    "---"
   ]
  },
  {
   "cell_type": "code",
   "execution_count": null,
   "id": "47d1f405-4a10-4fae-8956-c806844b888e",
   "metadata": {},
   "outputs": [],
   "source": []
  }
 ],
 "metadata": {
  "kernelspec": {
   "display_name": "Python 3 (ipykernel)",
   "language": "python",
   "name": "python3"
  },
  "language_info": {
   "codemirror_mode": {
    "name": "ipython",
    "version": 3
   },
   "file_extension": ".py",
   "mimetype": "text/x-python",
   "name": "python",
   "nbconvert_exporter": "python",
   "pygments_lexer": "ipython3",
   "version": "3.11.10"
  },
  "widgets": {
   "application/vnd.jupyter.widget-state+json": {
    "state": {},
    "version_major": 2,
    "version_minor": 0
   }
  }
 },
 "nbformat": 4,
 "nbformat_minor": 5
}
