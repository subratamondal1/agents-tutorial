{
 "cells": [
  {
   "cell_type": "code",
   "execution_count": 1,
   "id": "1004bfd4",
   "metadata": {
    "execution": {
     "iopub.execute_input": "2025-10-27T04:37:05.159004Z",
     "iopub.status.busy": "2025-10-27T04:37:05.158724Z",
     "iopub.status.idle": "2025-10-27T04:37:11.330795Z",
     "shell.execute_reply": "2025-10-27T04:37:11.329793Z"
    },
    "papermill": {
     "duration": 6.177561,
     "end_time": "2025-10-27T04:37:11.332108",
     "exception": false,
     "start_time": "2025-10-27T04:37:05.154547",
     "status": "completed"
    },
    "tags": []
   },
   "outputs": [
    {
     "name": "stdout",
     "output_type": "stream",
     "text": [
      "Collecting uv\r\n",
      "  Downloading uv-0.9.5-py3-none-manylinux_2_17_x86_64.manylinux2014_x86_64.whl.metadata (11 kB)\r\n",
      "Downloading uv-0.9.5-py3-none-manylinux_2_17_x86_64.manylinux2014_x86_64.whl (21.3 MB)\r\n",
      "\u001b[2K   \u001b[90m━━━━━━━━━━━━━━━━━━━━━━━━━━━━━━━━━━━━━━━━\u001b[0m \u001b[32m21.3/21.3 MB\u001b[0m \u001b[31m70.2 MB/s\u001b[0m eta \u001b[36m0:00:00\u001b[0m\r\n",
      "\u001b[?25hInstalling collected packages: uv\r\n",
      "Successfully installed uv-0.9.5\r\n",
      "Note: you may need to restart the kernel to use updated packages.\n"
     ]
    }
   ],
   "source": [
    "pip install uv"
   ]
  },
  {
   "cell_type": "code",
   "execution_count": 2,
   "id": "818a182f",
   "metadata": {
    "execution": {
     "iopub.execute_input": "2025-10-27T04:37:11.338932Z",
     "iopub.status.busy": "2025-10-27T04:37:11.338660Z",
     "iopub.status.idle": "2025-10-27T04:37:13.034595Z",
     "shell.execute_reply": "2025-10-27T04:37:13.033463Z"
    },
    "papermill": {
     "duration": 1.701155,
     "end_time": "2025-10-27T04:37:13.036416",
     "exception": false,
     "start_time": "2025-10-27T04:37:11.335261",
     "status": "completed"
    },
    "tags": []
   },
   "outputs": [
    {
     "name": "stdout",
     "output_type": "stream",
     "text": [
      "\u001b[2K\u001b[1A\u001b[2mInstalled \u001b[1mPython 3.13.0\u001b[0m \u001b[2min 1.56s\u001b[0m\u001b[0m\r\n",
      " \u001b[32m+\u001b[39m \u001b[1mcpython-3.13.0-linux-x86_64-gnu\u001b[0m (python3.13)\r\n",
      "\u001b[1m\u001b[33mwarning\u001b[39m\u001b[0m\u001b[1m:\u001b[0m \u001b[1m`\u001b[36m/root/.local/bin\u001b[39m` is not on your PATH. To use installed Python executables, run `\u001b[32mexport PATH=\"/root/.local/bin:$PATH\"\u001b[39m` or `\u001b[32muv python update-shell\u001b[39m`.\u001b[0m\r\n"
     ]
    }
   ],
   "source": [
    "! uv python install 3.13.0"
   ]
  },
  {
   "cell_type": "code",
   "execution_count": 3,
   "id": "1beb3484",
   "metadata": {
    "execution": {
     "iopub.execute_input": "2025-10-27T04:37:13.046270Z",
     "iopub.status.busy": "2025-10-27T04:37:13.045581Z",
     "iopub.status.idle": "2025-10-27T04:37:13.411599Z",
     "shell.execute_reply": "2025-10-27T04:37:13.410499Z"
    },
    "papermill": {
     "duration": 0.372752,
     "end_time": "2025-10-27T04:37:13.413463",
     "exception": false,
     "start_time": "2025-10-27T04:37:13.040711",
     "status": "completed"
    },
    "tags": []
   },
   "outputs": [
    {
     "name": "stdout",
     "output_type": "stream",
     "text": [
      "Pinned `\u001b[36m.python-version\u001b[39m` to `\u001b[32m3.13.0\u001b[39m`\r\n"
     ]
    }
   ],
   "source": [
    "! uv python pin 3.13.0"
   ]
  },
  {
   "cell_type": "code",
   "execution_count": 4,
   "id": "1860a0d2",
   "metadata": {
    "execution": {
     "iopub.execute_input": "2025-10-27T04:37:13.423328Z",
     "iopub.status.busy": "2025-10-27T04:37:13.422996Z",
     "iopub.status.idle": "2025-10-27T04:37:13.559365Z",
     "shell.execute_reply": "2025-10-27T04:37:13.557979Z"
    },
    "papermill": {
     "duration": 0.143366,
     "end_time": "2025-10-27T04:37:13.561174",
     "exception": false,
     "start_time": "2025-10-27T04:37:13.417808",
     "status": "completed"
    },
    "tags": []
   },
   "outputs": [
    {
     "name": "stdout",
     "output_type": "stream",
     "text": [
      "\u001b[1m\u001b[33mwarning\u001b[39m\u001b[0m\u001b[1m:\u001b[0m \u001b[1mThe `--system` flag has no effect, a system Python interpreter is always used in `uv venv`\u001b[0m\r\n",
      "Using CPython \u001b[36m3.13.0\u001b[39m\r\n",
      "Creating virtual environment at: \u001b[36m.venv\u001b[39m\r\n",
      "Activate with: \u001b[32msource .venv/bin/activate\u001b[39m\r\n"
     ]
    }
   ],
   "source": [
    "! uv venv --clear"
   ]
  },
  {
   "cell_type": "code",
   "execution_count": 5,
   "id": "68cd7560",
   "metadata": {
    "execution": {
     "iopub.execute_input": "2025-10-27T04:37:13.570341Z",
     "iopub.status.busy": "2025-10-27T04:37:13.570031Z",
     "iopub.status.idle": "2025-10-27T04:37:13.738327Z",
     "shell.execute_reply": "2025-10-27T04:37:13.737167Z"
    },
    "papermill": {
     "duration": 0.175059,
     "end_time": "2025-10-27T04:37:13.740034",
     "exception": false,
     "start_time": "2025-10-27T04:37:13.564975",
     "status": "completed"
    },
    "tags": []
   },
   "outputs": [
    {
     "name": "stdout",
     "output_type": "stream",
     "text": [
      "Initialized project `\u001b[36mworking\u001b[39m`\r\n"
     ]
    }
   ],
   "source": [
    "! uv init"
   ]
  },
  {
   "cell_type": "code",
   "execution_count": 6,
   "id": "b8f5c072",
   "metadata": {
    "execution": {
     "iopub.execute_input": "2025-10-27T04:37:13.749740Z",
     "iopub.status.busy": "2025-10-27T04:37:13.749396Z",
     "iopub.status.idle": "2025-10-27T04:37:13.871080Z",
     "shell.execute_reply": "2025-10-27T04:37:13.869956Z"
    },
    "papermill": {
     "duration": 0.128446,
     "end_time": "2025-10-27T04:37:13.872704",
     "exception": false,
     "start_time": "2025-10-27T04:37:13.744258",
     "status": "completed"
    },
    "tags": []
   },
   "outputs": [],
   "source": [
    "! source .venv/bin/activate"
   ]
  },
  {
   "cell_type": "code",
   "execution_count": 7,
   "id": "3d1aa866",
   "metadata": {
    "execution": {
     "iopub.execute_input": "2025-10-27T04:37:13.882157Z",
     "iopub.status.busy": "2025-10-27T04:37:13.881503Z",
     "iopub.status.idle": "2025-10-27T04:37:15.114285Z",
     "shell.execute_reply": "2025-10-27T04:37:15.113268Z"
    },
    "papermill": {
     "duration": 1.239416,
     "end_time": "2025-10-27T04:37:15.115998",
     "exception": false,
     "start_time": "2025-10-27T04:37:13.876582",
     "status": "completed"
    },
    "tags": []
   },
   "outputs": [],
   "source": [
    "! uv add langchain langgraph -qq"
   ]
  },
  {
   "cell_type": "code",
   "execution_count": 8,
   "id": "f70c60b8",
   "metadata": {
    "execution": {
     "iopub.execute_input": "2025-10-27T04:37:15.124970Z",
     "iopub.status.busy": "2025-10-27T04:37:15.124708Z",
     "iopub.status.idle": "2025-10-27T04:37:15.261017Z",
     "shell.execute_reply": "2025-10-27T04:37:15.259920Z"
    },
    "papermill": {
     "duration": 0.142695,
     "end_time": "2025-10-27T04:37:15.262834",
     "exception": false,
     "start_time": "2025-10-27T04:37:15.120139",
     "status": "completed"
    },
    "tags": []
   },
   "outputs": [
    {
     "name": "stdout",
     "output_type": "stream",
     "text": [
      "\u001b[2mResolved \u001b[1m33 packages\u001b[0m \u001b[2min 1ms\u001b[0m\u001b[0m\r\n",
      "working v0.1.0\r\n",
      "├── langchain v1.0.2\r\n",
      "│   ├── langchain-core v1.0.1\r\n",
      "│   │   ├── jsonpatch v1.33\r\n",
      "│   │   │   └── jsonpointer v3.0.0\r\n",
      "│   │   ├── langsmith v0.4.38\r\n",
      "│   │   │   ├── httpx v0.28.1\r\n",
      "│   │   │   │   ├── anyio v4.11.0\r\n",
      "│   │   │   │   │   ├── idna v3.11\r\n",
      "│   │   │   │   │   └── sniffio v1.3.1\r\n",
      "│   │   │   │   ├── certifi v2025.10.5\r\n",
      "│   │   │   │   ├── httpcore v1.0.9\r\n",
      "│   │   │   │   │   ├── certifi v2025.10.5\r\n",
      "│   │   │   │   │   └── h11 v0.16.0\r\n",
      "│   │   │   │   └── idna v3.11\r\n",
      "│   │   │   ├── orjson v3.11.4\r\n",
      "│   │   │   ├── packaging v25.0\r\n",
      "│   │   │   ├── pydantic v2.12.3\r\n",
      "│   │   │   │   ├── annotated-types v0.7.0\r\n",
      "│   │   │   │   ├── pydantic-core v2.41.4\r\n",
      "│   │   │   │   │   └── typing-extensions v4.15.0\r\n",
      "│   │   │   │   ├── typing-extensions v4.15.0\r\n",
      "│   │   │   │   └── typing-inspection v0.4.2\r\n",
      "│   │   │   │       └── typing-extensions v4.15.0\r\n",
      "│   │   │   ├── requests v2.32.5\r\n",
      "│   │   │   │   ├── certifi v2025.10.5\r\n",
      "│   │   │   │   ├── charset-normalizer v3.4.4\r\n",
      "│   │   │   │   ├── idna v3.11\r\n",
      "│   │   │   │   └── urllib3 v2.5.0\r\n",
      "│   │   │   ├── requests-toolbelt v1.0.0\r\n",
      "│   │   │   │   └── requests v2.32.5 (*)\r\n",
      "│   │   │   └── zstandard v0.25.0\r\n",
      "│   │   ├── packaging v25.0\r\n",
      "│   │   ├── pydantic v2.12.3 (*)\r\n",
      "│   │   ├── pyyaml v6.0.3\r\n",
      "│   │   ├── tenacity v9.1.2\r\n",
      "│   │   └── typing-extensions v4.15.0\r\n",
      "│   ├── langgraph v1.0.1\r\n",
      "│   │   ├── langchain-core v1.0.1 (*)\r\n",
      "│   │   ├── langgraph-checkpoint v3.0.0\r\n",
      "│   │   │   ├── langchain-core v1.0.1 (*)\r\n",
      "│   │   │   └── ormsgpack v1.11.0\r\n",
      "│   │   ├── langgraph-prebuilt v1.0.1\r\n",
      "│   │   │   ├── langchain-core v1.0.1 (*)\r\n",
      "│   │   │   └── langgraph-checkpoint v3.0.0 (*)\r\n",
      "│   │   ├── langgraph-sdk v0.2.9\r\n",
      "│   │   │   ├── httpx v0.28.1 (*)\r\n",
      "│   │   │   └── orjson v3.11.4\r\n",
      "│   │   ├── pydantic v2.12.3 (*)\r\n",
      "│   │   └── xxhash v3.6.0\r\n",
      "│   └── pydantic v2.12.3 (*)\r\n",
      "└── langgraph v1.0.1 (*)\r\n",
      "\u001b[3m(*) Package tree already displayed\u001b[0m\r\n"
     ]
    }
   ],
   "source": [
    "! uv tree"
   ]
  },
  {
   "cell_type": "code",
   "execution_count": null,
   "id": "e08dc79d",
   "metadata": {
    "papermill": {
     "duration": 0.003793,
     "end_time": "2025-10-27T04:37:15.270972",
     "exception": false,
     "start_time": "2025-10-27T04:37:15.267179",
     "status": "completed"
    },
    "tags": []
   },
   "outputs": [],
   "source": []
  }
 ],
 "metadata": {
  "kaggle": {
   "accelerator": "none",
   "dataSources": [],
   "dockerImageVersionId": 31153,
   "isGpuEnabled": false,
   "isInternetEnabled": true,
   "language": "python",
   "sourceType": "notebook"
  },
  "kernelspec": {
   "display_name": "Python 3",
   "language": "python",
   "name": "python3"
  },
  "language_info": {
   "codemirror_mode": {
    "name": "ipython",
    "version": 3
   },
   "file_extension": ".py",
   "mimetype": "text/x-python",
   "name": "python",
   "nbconvert_exporter": "python",
   "pygments_lexer": "ipython3",
   "version": "3.11.13"
  },
  "papermill": {
   "default_parameters": {},
   "duration": 14.487025,
   "end_time": "2025-10-27T04:37:15.592749",
   "environment_variables": {},
   "exception": null,
   "input_path": "__notebook__.ipynb",
   "output_path": "__notebook__.ipynb",
   "parameters": {},
   "start_time": "2025-10-27T04:37:01.105724",
   "version": "2.6.0"
  }
 },
 "nbformat": 4,
 "nbformat_minor": 5
}
